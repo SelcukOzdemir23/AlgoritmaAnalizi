{
  "cells": [
    {
      "cell_type": "markdown",
      "metadata": {
        "id": "yslrxFbOjs5p"
      },
      "source": [
        "# RANDOM SAYILAR ÜRET"
      ]
    },
    {
      "cell_type": "code",
      "execution_count": 50,
      "metadata": {
        "id": "0sKwgpmzQXls"
      },
      "outputs": [],
      "source": [
        "import sys\n",
        "sys.setrecursionlimit(100000)\n",
        "import numpy as np\n",
        "import random as rd\n",
        "\n",
        "\n",
        "\n",
        "sayilarim = np.random.randint(10,100,1000000)\n",
        "sayi_insert = sayilarim.copy()\n",
        "sayi_quick = sayilarim.copy()\n",
        "\n",
        "\n"
      ]
    },
    {
      "cell_type": "markdown",
      "metadata": {
        "id": "9U_lo6qhjw0v"
      },
      "source": [
        "# INSERTION SORT ALGORİTMASI"
      ]
    },
    {
      "cell_type": "code",
      "execution_count": 24,
      "metadata": {
        "colab": {
          "base_uri": "https://localhost:8080/",
          "height": 356
        },
        "id": "BKxdqyrdQdYk",
        "outputId": "02889a59-68d5-42d6-ba3a-2f2a3722e8c7"
      },
      "outputs": [
        {
          "output_type": "error",
          "ename": "KeyboardInterrupt",
          "evalue": "ignored",
          "traceback": [
            "\u001b[0;31m---------------------------------------------------------------------------\u001b[0m",
            "\u001b[0;31mKeyboardInterrupt\u001b[0m                         Traceback (most recent call last)",
            "\u001b[0;32m<ipython-input-24-5b8f844d3312>\u001b[0m in \u001b[0;36m<module>\u001b[0;34m\u001b[0m\n\u001b[1;32m      9\u001b[0m \u001b[0;34m\u001b[0m\u001b[0m\n\u001b[1;32m     10\u001b[0m \u001b[0;34m\u001b[0m\u001b[0m\n\u001b[0;32m---> 11\u001b[0;31m \u001b[0minsertion\u001b[0m\u001b[0;34m(\u001b[0m\u001b[0msayi_insert\u001b[0m\u001b[0;34m)\u001b[0m\u001b[0;34m\u001b[0m\u001b[0;34m\u001b[0m\u001b[0m\n\u001b[0m\u001b[1;32m     12\u001b[0m \u001b[0mprint\u001b[0m\u001b[0;34m(\u001b[0m\u001b[0msayi_insert\u001b[0m\u001b[0;34m)\u001b[0m\u001b[0;34m\u001b[0m\u001b[0;34m\u001b[0m\u001b[0m\n\u001b[1;32m     13\u001b[0m \u001b[0;34m\u001b[0m\u001b[0m\n",
            "\u001b[0;32m<ipython-input-24-5b8f844d3312>\u001b[0m in \u001b[0;36minsertion\u001b[0;34m(M)\u001b[0m\n\u001b[1;32m      4\u001b[0m             \u001b[0;32mcontinue\u001b[0m\u001b[0;34m\u001b[0m\u001b[0;34m\u001b[0m\u001b[0m\n\u001b[1;32m      5\u001b[0m         \u001b[0;32mfor\u001b[0m \u001b[0mj\u001b[0m \u001b[0;32min\u001b[0m \u001b[0mrange\u001b[0m\u001b[0;34m(\u001b[0m\u001b[0mi\u001b[0m\u001b[0;34m)\u001b[0m\u001b[0;34m:\u001b[0m\u001b[0;34m\u001b[0m\u001b[0;34m\u001b[0m\u001b[0m\n\u001b[0;32m----> 6\u001b[0;31m             \u001b[0;32mif\u001b[0m \u001b[0mM\u001b[0m\u001b[0;34m[\u001b[0m\u001b[0mi\u001b[0m\u001b[0;34m]\u001b[0m \u001b[0;34m<\u001b[0m \u001b[0mM\u001b[0m\u001b[0;34m[\u001b[0m\u001b[0mj\u001b[0m\u001b[0;34m]\u001b[0m\u001b[0;34m:\u001b[0m\u001b[0;34m\u001b[0m\u001b[0;34m\u001b[0m\u001b[0m\n\u001b[0m\u001b[1;32m      7\u001b[0m                 \u001b[0mM\u001b[0m\u001b[0;34m[\u001b[0m\u001b[0mj\u001b[0m\u001b[0;34m]\u001b[0m\u001b[0;34m,\u001b[0m\u001b[0mM\u001b[0m\u001b[0;34m[\u001b[0m\u001b[0mj\u001b[0m\u001b[0;34m+\u001b[0m\u001b[0;36m1\u001b[0m\u001b[0;34m:\u001b[0m\u001b[0mi\u001b[0m\u001b[0;34m+\u001b[0m\u001b[0;36m1\u001b[0m\u001b[0;34m]\u001b[0m \u001b[0;34m=\u001b[0m \u001b[0mM\u001b[0m\u001b[0;34m[\u001b[0m\u001b[0mi\u001b[0m\u001b[0;34m]\u001b[0m\u001b[0;34m,\u001b[0m\u001b[0mM\u001b[0m\u001b[0;34m[\u001b[0m\u001b[0mj\u001b[0m\u001b[0;34m:\u001b[0m\u001b[0mi\u001b[0m\u001b[0;34m]\u001b[0m\u001b[0;34m\u001b[0m\u001b[0;34m\u001b[0m\u001b[0m\n\u001b[1;32m      8\u001b[0m                 \u001b[0;32mbreak\u001b[0m\u001b[0;34m\u001b[0m\u001b[0;34m\u001b[0m\u001b[0m\n",
            "\u001b[0;31mKeyboardInterrupt\u001b[0m: "
          ]
        }
      ],
      "source": [
        "\n",
        "def insertion(M):\n",
        "    for i in range(1,len(M)):\n",
        "        if M[i] >= M[i-1]:\n",
        "            continue\n",
        "        for j in range(i):\n",
        "            if M[i] < M[j]:\n",
        "                M[j],M[j+1:i+1] = M[i],M[j:i]\n",
        "                break\n",
        "    \n",
        "\n",
        "insertion(sayi_insert)\n",
        "print(sayi_insert)\n",
        "\n",
        "\n",
        "\n"
      ]
    },
    {
      "cell_type": "markdown",
      "metadata": {
        "id": "_VngRD40jz6_"
      },
      "source": [
        "# RADIX SORT ALGORİTMASI"
      ]
    },
    {
      "cell_type": "code",
      "execution_count": 43,
      "metadata": {
        "colab": {
          "base_uri": "https://localhost:8080/"
        },
        "id": "XhJj0-lhQhfS",
        "outputId": "d2207e93-320b-4851-b1e3-f1c93281844f"
      },
      "outputs": [
        {
          "output_type": "stream",
          "name": "stderr",
          "text": [
            "IOPub data rate exceeded.\n",
            "The notebook server will temporarily stop sending output\n",
            "to the client in order to avoid crashing it.\n",
            "To change this limit, set the config variable\n",
            "`--NotebookApp.iopub_data_rate_limit`.\n",
            "\n",
            "Current values:\n",
            "NotebookApp.iopub_data_rate_limit=1000000.0 (bytes/sec)\n",
            "NotebookApp.rate_limit_window=3.0 (secs)\n",
            "\n"
          ]
        }
      ],
      "source": [
        "\n",
        "# # RADIX SORT (ASIL HALİ)\n",
        "\n",
        "\n",
        "\n",
        "\n",
        "def radix_sort(sayi):\n",
        "    \n",
        "    temp=len(str(max(sayi)))\n",
        "    \n",
        "    for i in range(temp):\n",
        "        \n",
        "        dictionary={'0':[],'1':[],'2':[],'3':[],'4':[],'5':[],'6':[],'7':[],'8':[],'9':[]}\n",
        "        \n",
        "        \n",
        "        for j in range(len(sayi)):\n",
        "            \n",
        "            z=sayi[j]\n",
        "            radix=10**i\n",
        "            \n",
        "            (dictionary[str((z//radix)%10)]).append(z)\n",
        "            \n",
        "        \n",
        "        sayi=[]\n",
        "        \n",
        "        for k in range(10):\n",
        "            sayi+=dictionary[str(k)]\n",
        "    \n",
        "    return sayi\n",
        "print(radix_sort(sayilarim))\n"
      ]
    },
    {
      "cell_type": "markdown",
      "metadata": {
        "id": "48GZfzPej453"
      },
      "source": [
        "# RANDOMİZE QUİCK SORT ALGORİTMASI"
      ]
    },
    {
      "cell_type": "code",
      "execution_count": null,
      "metadata": {
        "id": "JM1ZmBFMQkZt"
      },
      "outputs": [],
      "source": [
        "def partition(array, low, high):\n",
        " \n",
        " \n",
        "    pivot = array[high]\n",
        " \n",
        "    i = low - 1\n",
        " \n",
        " \n",
        " \n",
        "    for j in range(low, high):\n",
        "        if array[j] <= pivot:\n",
        " \n",
        " \n",
        "            i = i + 1\n",
        " \n",
        " \n",
        "            (array[i], array[j]) = (array[j], array[i])\n",
        " \n",
        "   \n",
        "    (array[i + 1], array[high]) = (array[high], array[i + 1])\n",
        " \n",
        "    \n",
        "    return i + 1\n",
        " \n",
        "\n",
        " \n",
        " \n",
        "def quickSort(array, low, high):\n",
        "    if low < high:\n",
        " \n",
        "      \n",
        "        pi = partition(array, low, high)\n",
        " \n",
        "        \n",
        "        quickSort(array, low, pi - 1)\n",
        " \n",
        "        quickSort(array, pi + 1, high)\n",
        "\n",
        "quickSort(sayi_quick,0,len(sayi_quick)-1)\n",
        "print(sayi_quick)\n",
        "\n"
      ]
    },
    {
      "cell_type": "code",
      "execution_count": null,
      "metadata": {
        "id": "Sc5EWidZmrgw"
      },
      "outputs": [],
      "source": []
    }
  ],
  "metadata": {
    "colab": {
      "provenance": []
    },
    "kernelspec": {
      "display_name": "Python 3",
      "name": "python3"
    },
    "language_info": {
      "name": "python"
    }
  },
  "nbformat": 4,
  "nbformat_minor": 0
}
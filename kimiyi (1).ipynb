{
  "cells": [
    {
      "cell_type": "markdown",
      "metadata": {
        "id": "yslrxFbOjs5p"
      },
      "source": [
        "# RANDOM SAYILAR ÜRET"
      ]
    },
    {
      "cell_type": "code",
      "execution_count": 52,
      "metadata": {
        "id": "0sKwgpmzQXls"
      },
      "outputs": [],
      "source": [
        "import sys\n",
        "sys.setrecursionlimit(100000)\n",
        "import numpy as np\n",
        "import random as rd\n",
        "\n",
        "\n",
        "\n",
        "sayilarim = np.random.randint(10,100,100)\n",
        "sayi_insert = sayilarim.copy()\n",
        "sayi_quick = sayilarim.copy()\n",
        "\n",
        "\n"
      ]
    },
    {
      "cell_type": "markdown",
      "metadata": {
        "id": "9U_lo6qhjw0v"
      },
      "source": [
        "# INSERTION SORT ALGORİTMASI"
      ]
    },
    {
      "cell_type": "code",
      "execution_count": 53,
      "metadata": {
        "colab": {
          "base_uri": "https://localhost:8080/"
        },
        "id": "BKxdqyrdQdYk",
        "outputId": "84c6b89b-4c89-4126-8176-fc44ebc70fc4"
      },
      "outputs": [
        {
          "output_type": "stream",
          "name": "stdout",
          "text": [
            "[11 11 11 14 14 14 14 16 16 16 16 21 23 23 23 23 24 24 28 28 29 29 29 29\n",
            " 31 31 31 31 33 33 36 36 36 36 37 37 38 41 41 42 42 42 42 46 46 47 47 47\n",
            " 47 52 52 52 53 53 54 54 59 59 59 59 61 61 61 61 62 65 65 65 65 67 68 68\n",
            " 70 72 72 72 73 74 74 74 74 75 75 78 78 79 79 81 81 81 88 90 90 94 94 94\n",
            " 94 94 96 96]\n"
          ]
        }
      ],
      "source": [
        "\n",
        "def insertion(M):\n",
        "    for i in range(1,len(M)):\n",
        "        if M[i] >= M[i-1]:\n",
        "            continue\n",
        "        for j in range(i):\n",
        "            if M[i] < M[j]:\n",
        "                M[j],M[j+1:i+1] = M[i],M[j:i]\n",
        "                break\n",
        "    \n",
        "\n",
        "insertion(sayi_insert)\n",
        "print(sayi_insert)\n",
        "\n",
        "\n",
        "\n"
      ]
    },
    {
      "cell_type": "markdown",
      "metadata": {
        "id": "_VngRD40jz6_"
      },
      "source": [
        "# RADIX SORT ALGORİTMASI"
      ]
    },
    {
      "cell_type": "code",
      "execution_count": 54,
      "metadata": {
        "colab": {
          "base_uri": "https://localhost:8080/"
        },
        "id": "XhJj0-lhQhfS",
        "outputId": "62186238-5ca7-4d70-ed3f-0ee80e69f3d0"
      },
      "outputs": [
        {
          "output_type": "stream",
          "name": "stdout",
          "text": [
            "[11, 11, 14, 14, 15, 16, 16, 17, 20, 21, 22, 23, 23, 24, 25, 28, 28, 29, 29, 30, 31, 31, 31, 31, 33, 34, 35, 36, 36, 37, 37, 38, 41, 41, 42, 42, 42, 43, 44, 46, 47, 47, 49, 50, 52, 52, 52, 53, 53, 54, 54, 56, 58, 59, 59, 61, 61, 62, 62, 62, 65, 65, 67, 67, 67, 68, 69, 69, 70, 72, 72, 72, 73, 73, 74, 74, 75, 76, 78, 78, 79, 81, 81, 83, 88, 88, 89, 90, 90, 91, 94, 94, 94, 95, 96, 98, 98, 98, 98, 99]\n"
          ]
        }
      ],
      "source": [
        "\n",
        "# # RADIX SORT (ASIL HALİ)\n",
        "\n",
        "\n",
        "\n",
        "\n",
        "def radix_sort(sayi):\n",
        "    \n",
        "    temp=len(str(max(sayi)))\n",
        "    \n",
        "    for i in range(temp):\n",
        "        \n",
        "        dictionary={'0':[],'1':[],'2':[],'3':[],'4':[],'5':[],'6':[],'7':[],'8':[],'9':[]}\n",
        "        \n",
        "        \n",
        "        for j in range(len(sayi)):\n",
        "            \n",
        "            z=sayi[j]\n",
        "            radix=10**i\n",
        "            \n",
        "            (dictionary[str((z//radix)%10)]).append(z)\n",
        "            \n",
        "        \n",
        "        sayi=[]\n",
        "        \n",
        "        for k in range(10):\n",
        "            sayi+=dictionary[str(k)]\n",
        "    \n",
        "    return sayi\n",
        "print(radix_sort(sayilarim))\n"
      ]
    },
    {
      "cell_type": "markdown",
      "metadata": {
        "id": "48GZfzPej453"
      },
      "source": [
        "# RANDOMİZE QUİCK SORT ALGORİTMASI"
      ]
    },
    {
      "cell_type": "code",
      "execution_count": 55,
      "metadata": {
        "colab": {
          "base_uri": "https://localhost:8080/"
        },
        "id": "JM1ZmBFMQkZt",
        "outputId": "af4d7cf6-7182-43f7-bf14-84d56ac7423f"
      },
      "outputs": [
        {
          "output_type": "stream",
          "name": "stdout",
          "text": [
            "[11 11 14 14 15 16 16 17 20 21 22 23 23 24 25 28 28 29 29 30 31 31 31 31\n",
            " 33 34 35 36 36 37 37 38 41 41 42 42 42 43 44 46 47 47 49 50 52 52 52 53\n",
            " 53 54 54 56 58 59 59 61 61 62 62 62 65 65 67 67 67 68 69 69 70 72 72 72\n",
            " 73 73 74 74 75 76 78 78 79 81 81 83 88 88 89 90 90 91 94 94 94 95 96 98\n",
            " 98 98 98 99]\n"
          ]
        }
      ],
      "source": [
        "def partition(array, low, high):\n",
        " \n",
        " \n",
        "    pivot = array[high]\n",
        " \n",
        "    i = low - 1\n",
        " \n",
        " \n",
        " \n",
        "    for j in range(low, high):\n",
        "        if array[j] <= pivot:\n",
        " \n",
        " \n",
        "            i = i + 1\n",
        " \n",
        " \n",
        "            (array[i], array[j]) = (array[j], array[i])\n",
        " \n",
        "   \n",
        "    (array[i + 1], array[high]) = (array[high], array[i + 1])\n",
        " \n",
        "    \n",
        "    return i + 1\n",
        " \n",
        "\n",
        " \n",
        " \n",
        "def quickSort(array, low, high):\n",
        "    if low < high:\n",
        " \n",
        "      \n",
        "        pi = partition(array, low, high)\n",
        " \n",
        "        \n",
        "        quickSort(array, low, pi - 1)\n",
        " \n",
        "        quickSort(array, pi + 1, high)\n",
        "\n",
        "quickSort(sayi_quick,0,len(sayi_quick)-1)\n",
        "print(sayi_quick)\n",
        "\n"
      ]
    },
    {
      "cell_type": "code",
      "execution_count": null,
      "metadata": {
        "id": "Sc5EWidZmrgw"
      },
      "outputs": [],
      "source": []
    }
  ],
  "metadata": {
    "colab": {
      "provenance": []
    },
    "kernelspec": {
      "display_name": "Python 3",
      "name": "python3"
    },
    "language_info": {
      "name": "python"
    }
  },
  "nbformat": 4,
  "nbformat_minor": 0
}